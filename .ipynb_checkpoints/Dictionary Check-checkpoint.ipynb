{
 "cells": [
  {
   "cell_type": "code",
   "execution_count": 30,
   "metadata": {},
   "outputs": [
    {
     "name": "stdout",
     "output_type": "stream",
     "text": [
      "Dictionary includes: 177433 items.\n"
     ]
    }
   ],
   "source": [
    "# -*- coding: utf-8 -*-\n",
    "# Start runtime to see which versions is fastest:\n",
    "import time\n",
    "start = time.time()\n",
    "\n",
    "#  Read dictionary file:\n",
    "with open(\"dict.csv\") as file:\n",
    "    dictset = {\"\"}\n",
    "    for word in file:\n",
    "        word = word.strip()\n",
    "        dictset.add(word)\n",
    "print(\"Dictionary includes: \" + str(len(dictset)) + \" items.\")"
   ]
  },
  {
   "cell_type": "code",
   "execution_count": 38,
   "metadata": {},
   "outputs": [
    {
     "name": "stdout",
     "output_type": "stream",
     "text": [
      "Doppeltes Leerzeichen in Zeile 1\n",
      "Input file includes: 1915 unique words.\n",
      "\n"
     ]
    }
   ],
   "source": [
    "#  Read input file with phrases that need a spell check:\n",
    "import csv\n",
    " \n",
    "with open(\"input phase 9.csv\", encoding='utf-8') as input_file:\n",
    "    lines = csv.reader(input_file, delimiter=';') # creates list with all the lines in the csv-file\n",
    "    liste = list(lines)\n",
    "    input_set = {\"\"}\n",
    "    counter = 0\n",
    "    \n",
    "    for line in liste:\n",
    "        counter += 1\n",
    "        if (\"  \" in str(line)): #checks for double spaces in line\n",
    "            print(\"Doppeltes Leerzeichen in Zeile \" + str(counter))\n",
    "        for item in line:\n",
    "            line_split = item.split(\" \")\n",
    "            for word in line_split:\n",
    "                word = word.strip() # gets rid of spaces and escape characters\n",
    "                delete_char = \"*':'\"\"'=,;/\" # deletes unwanted characters\n",
    "                for char in delete_char:\n",
    "                    word = word.replace(char,\"\")\n",
    "                input_set.add(word)\n",
    "\n",
    "print(\"Input file includes: \" + str(len(input_set)) + \" unique words.\" + \"\\n\")\n",
    "#print(input_set)"
   ]
  },
  {
   "cell_type": "code",
   "execution_count": 33,
   "metadata": {},
   "outputs": [
    {
     "name": "stdout",
     "output_type": "stream",
     "text": [
      "Errors: 1228\n",
      "\n"
     ]
    }
   ],
   "source": [
    "# Spell check\n",
    "misspelled = []\n",
    "for item in input_set:\n",
    "    if not (item in dictset):\n",
    "        misspelled.append(item)\n",
    "\n",
    "print(\"Errors: \" + str(len(misspelled)) + \"\\n\")\n",
    "print(misspelled)"
   ]
  },
  {
   "cell_type": "code",
   "execution_count": 36,
   "metadata": {},
   "outputs": [
    {
     "name": "stdout",
     "output_type": "stream",
     "text": [
      "Runtime:\n",
      "743.2592668533325\n"
     ]
    }
   ],
   "source": [
    "# Download all errors into csv for manual check\n",
    "with open(\"error_list.csv\", \"w\", newline=\"\", encoding=\"utf-8\") as csvfile:\n",
    "    list_writer = csv.writer(csvfile, delimiter=\";\", quotechar='\"')\n",
    "    for word in misspelled:\n",
    "        list_writer.writerow([word])\n",
    "    #print(misspelled)\n",
    "        \n",
    "end = time.time()\n",
    "print(\"Runtime:\")\n",
    "print(end - start)\n",
    "        \n",
    "# Now check error list csv by hand for errors, typos, etc"
   ]
  },
  {
   "cell_type": "code",
   "execution_count": 28,
   "metadata": {},
   "outputs": [],
   "source": [
    "# add all items in checked erros_list into dict (only if no errors in error_list left!)\n",
    "import csv\n",
    "\n",
    "with open(\"error_list.csv\", \"r\", newline=\"\") as input_file:\n",
    "    file_reader = csv.reader(input_file, delimiter=';')\n",
    "    checked_set = {\"\"}\n",
    "    for word in file_reader:\n",
    "        if word != \"\":\n",
    "            checked_set.add(str(word[0]))\n",
    "\n",
    "with open('dict.csv','a', newline=\"\", encoding=\"utf-8\") as file:\n",
    "    list_writer = csv.writer(file, delimiter=\";\", quotechar='\"')\n",
    "    for word in checked_set:\n",
    "        list_writer.writerow([word])\n",
    "        \n",
    "#  to do: fix umlaut-issue when writing csv files; list comp. & sets vs lists"
   ]
  }
 ],
 "metadata": {
  "kernelspec": {
   "display_name": "Python 3",
   "language": "python",
   "name": "python3"
  },
  "language_info": {
   "codemirror_mode": {
    "name": "ipython",
    "version": 3
   },
   "file_extension": ".py",
   "mimetype": "text/x-python",
   "name": "python",
   "nbconvert_exporter": "python",
   "pygments_lexer": "ipython3",
   "version": "3.7.1"
  }
 },
 "nbformat": 4,
 "nbformat_minor": 2
}
