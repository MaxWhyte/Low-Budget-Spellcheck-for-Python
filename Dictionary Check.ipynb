{
 "cells": [
  {
   "cell_type": "markdown",
   "metadata": {},
   "source": [
    "# Low-budget Dictionary Check"
   ]
  },
  {
   "cell_type": "code",
   "execution_count": 33,
   "metadata": {},
   "outputs": [
    {
     "name": "stdout",
     "output_type": "stream",
     "text": [
      "Dictionary includes: 183073 items.\n"
     ]
    }
   ],
   "source": [
    "# -*- coding: utf-8 -*-\n",
    "# Start runtime to see which versions is fastest:\n",
    "import time\n",
    "start = time.time()\n",
    "\n",
    "#  Read dictionary file:\n",
    "with open(\"dict.csv\") as file:\n",
    "    dictset = {\"\"}\n",
    "    for word in file:\n",
    "        word = word.strip()\n",
    "        dictset.add(word)\n",
    "print(\"Dictionary includes: \" + str(len(dictset)) + \" items.\")"
   ]
  },
  {
   "cell_type": "code",
   "execution_count": 34,
   "metadata": {},
   "outputs": [
    {
     "name": "stdout",
     "output_type": "stream",
     "text": [
      "Double space in Line62\n",
      "Double space in Line208\n",
      "Double space in Line484\n",
      "Input file includes: 1919 unique words.\n",
      "\n"
     ]
    }
   ],
   "source": [
    "#  Read input file with phrases that need a spell check:\n",
    "import csv\n",
    " \n",
    "with open(\"input phase 11.csv\", encoding='utf-8') as input_file:\n",
    "    lines = csv.reader(input_file, delimiter=';') # creates list with all the lines in the csv-file\n",
    "    liste = list(lines)\n",
    "    input_set = {\"\"}\n",
    "    counter = 0\n",
    "    \n",
    "    for line in liste:\n",
    "        counter += 1\n",
    "        if (\"  \" in str(line)): #checks for double spaces in line\n",
    "            print(\"Double space in Line\" + str(counter))\n",
    "        for item in line:\n",
    "            line_split = item.split(\" \")\n",
    "            for word in line_split:\n",
    "                word = word.strip() # gets rid of spaces and escape characters - really needed?\n",
    "                delete_char = \"*': '\"\"'=,;)(/\" # deletes unwanted characters\n",
    "                for char in delete_char:\n",
    "                    word = word.replace(char,\"\")\n",
    "                input_set.add(word)\n",
    "\n",
    "print(\"Input file includes: \" + str(len(input_set)) + \" unique words.\" + \"\\n\")\n",
    "#print(input_set)"
   ]
  },
  {
   "cell_type": "code",
   "execution_count": 35,
   "metadata": {},
   "outputs": [
    {
     "name": "stdout",
     "output_type": "stream",
     "text": [
      "Errors: 729\n",
      "\n"
     ]
    }
   ],
   "source": [
    "# Spell check\n",
    "misspelled = []\n",
    "for item in input_set:\n",
    "    if not (item in dictset):\n",
    "        misspelled.append(item)\n",
    "\n",
    "print(\"Errors: \" + str(len(misspelled)) + \"\\n\")\n",
    "#print(misspelled)"
   ]
  },
  {
   "cell_type": "code",
   "execution_count": 36,
   "metadata": {},
   "outputs": [
    {
     "name": "stdout",
     "output_type": "stream",
     "text": [
      "Runtime:\n",
      "0.2968161106109619\n"
     ]
    }
   ],
   "source": [
    "# Download all errors into csv for manual check\n",
    "with open(\"error_list.csv\", \"w\", newline=\"\", encoding=\"utf-8\") as csvfile:\n",
    "    list_writer = csv.writer(csvfile, delimiter=\";\", quotechar='\"')\n",
    "    for word in misspelled:\n",
    "        list_writer.writerow([word])\n",
    "    #print(misspelled)\n",
    "        \n",
    "end = time.time()\n",
    "print(\"Runtime:\")\n",
    "print(end - start)\n",
    "        \n",
    "# Now check error list csv by hand for errors, typos, etc"
   ]
  },
  {
   "cell_type": "code",
   "execution_count": 37,
   "metadata": {
    "code_folding": []
   },
   "outputs": [],
   "source": [
    "# add all items in checked erros_list into dict (only if no errors in error_list left!)\n",
    "import csv\n",
    "\n",
    "# funktion mit button bauen?\n",
    "with open(\"error_list.csv\", \"r\", newline=\"\", encoding=\"utf-8\") as input_file:\n",
    "    file_reader = csv.reader(input_file, delimiter=';')\n",
    "    checked_set = {\"\"}\n",
    "    for word in file_reader:\n",
    "        if word != \"\":\n",
    "            checked_set.add(str(word[0]))\n",
    "    #print(checked_set)\n",
    "\n",
    "with open('dict.csv','a', newline=\"\", encoding=\"utf-8\") as file:\n",
    "    list_writer = csv.writer(file, delimiter=\";\", quotechar='\"')\n",
    "    for word in checked_set:\n",
    "        list_writer.writerow([word])\n",
    "        \n",
    "#  to do: \n",
    "# automate process with button in NB\n",
    "# fix umlaut-issue when writing csv files\n",
    "# list comp. & sets vs lists\n",
    "# check if numbers are correct\n",
    "# check if no spaces before comma\n",
    "# check if correct number of *\n",
    "# check if X is in target when Y is in source"
   ]
  },
  {
   "cell_type": "code",
   "execution_count": null,
   "metadata": {},
   "outputs": [],
   "source": []
  }
 ],
 "metadata": {
  "kernelspec": {
   "display_name": "Python 3",
   "language": "python",
   "name": "python3"
  },
  "language_info": {
   "codemirror_mode": {
    "name": "ipython",
    "version": 3
   },
   "file_extension": ".py",
   "mimetype": "text/x-python",
   "name": "python",
   "nbconvert_exporter": "python",
   "pygments_lexer": "ipython3",
   "version": "3.7.3"
  },
  "varInspector": {
   "cols": {
    "lenName": 16,
    "lenType": 16,
    "lenVar": 40
   },
   "kernels_config": {
    "python": {
     "delete_cmd_postfix": "",
     "delete_cmd_prefix": "del ",
     "library": "var_list.py",
     "varRefreshCmd": "print(var_dic_list())"
    },
    "r": {
     "delete_cmd_postfix": ") ",
     "delete_cmd_prefix": "rm(",
     "library": "var_list.r",
     "varRefreshCmd": "cat(var_dic_list()) "
    }
   },
   "types_to_exclude": [
    "module",
    "function",
    "builtin_function_or_method",
    "instance",
    "_Feature"
   ],
   "window_display": false
  }
 },
 "nbformat": 4,
 "nbformat_minor": 2
}
